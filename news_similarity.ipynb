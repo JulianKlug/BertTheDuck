{
 "cells": [
  {
   "cell_type": "code",
   "execution_count": 1,
   "metadata": {
    "pycharm": {
     "name": "#%%\n",
     "is_executing": false
    }
   },
   "outputs": [],
   "source": [
    "SEED = 42\n",
    "PYTORCH_PRETRAINED_BERT_CACHE = \"/Users/julian/hackzurich/temp\""
   ]
  },
  {
   "cell_type": "code",
   "execution_count": 79,
   "metadata": {
    "pycharm": {
     "is_executing": false,
     "name": "#%%\n"
    }
   },
   "outputs": [],
   "source": [
    "# Local network environment settings\n",
    "import os\n",
    "os.environ[\"http_proxy\"] = \"127.0.0.1:11233\"\n",
    "os.environ[\"https_proxy\"] = \"127.0.0.1:11233\""
   ]
  },
  {
   "cell_type": "code",
   "execution_count": 80,
   "metadata": {
    "pycharm": {
     "name": "#%%\n"
    }
   },
   "outputs": [],
   "source": [
    "import logging\n",
    "\n",
    "logging.basicConfig(format = '%(asctime)s - %(levelname)s - %(name)s -   %(message)s',\n",
    "                    datefmt = '%m/%d/%Y %H:%M:%S',\n",
    "                    level = logging.INFO)\n",
    "logger = logging.getLogger(\"bert\")"
   ]
  },
  {
   "cell_type": "code",
   "execution_count": 81,
   "metadata": {
    "pycharm": {
     "name": "#%%\n"
    }
   },
   "outputs": [],
   "source": [
    "import json\n",
    "import gc\n",
    "import sys\n",
    "sys.path.insert(0, '../')\n",
    "\n",
    "import torch\n",
    "import torch.nn as nn\n",
    "import pandas as pd\n",
    "import numpy as np\n",
    "import matplotlib.pyplot as plt\n",
    "\n",
    "from torch.utils.data import TensorDataset, DataLoader, SequentialSampler\n",
    "from pytorch_pretrained_bert_2.modeling import BertForNextSentencePrediction\n",
    "from pytorch_pretrained_bert_2.tokenization import BertTokenizer\n",
    "# from pytorch_pretrained_bert.optimization import BertAdam, warmup_linear, SCHEDULES\n",
    "from fastprogress import master_bar, progress_bar\n",
    "from sklearn.model_selection import StratifiedShuffleSplit"
   ]
  },
  {
   "cell_type": "code",
   "execution_count": 82,
   "metadata": {
    "pycharm": {
     "name": "#%%\n"
    }
   },
   "outputs": [],
   "source": [
    "device = torch.device(\"cuda\" if torch.cuda.is_available() else \"cpu\")"
   ]
  },
  {
   "cell_type": "code",
   "execution_count": 83,
   "metadata": {
    "pycharm": {
     "name": "#%%\n"
    }
   },
   "outputs": [],
   "source": [
    "import random\n",
    "import numpy as np\n",
    "\n",
    "random.seed(SEED)\n",
    "np.random.seed(SEED)\n",
    "torch.manual_seed(SEED)\n",
    "if device == torch.device(\"cuda\"):\n",
    "    torch.cuda.manual_seed_all(SEED)"
   ]
  },
  {
   "cell_type": "markdown",
   "metadata": {
    "pycharm": {
     "name": "#%% md\n"
    }
   },
   "source": [
    "## Data Preparation"
   ]
  },
  {
   "cell_type": "code",
   "execution_count": 134,
   "metadata": {
    "pycharm": {
     "name": "#%%\n"
    }
   },
   "outputs": [],
   "source": [
    "with open(\"/Users/julian/hackzurich/trial1/isocial.json\") as fin:\n",
    "    dat = json.load(fin)\n",
    "\n",
    "entries = []\n",
    "for i in dat['hits']['hits']:\n",
    "   src = i['_source']\n",
    "   if 'title' in src and 'snippet' in src:\n",
    "       entries.append((src['title'],src['snippet'], src['company_codes'], src['industry_codes'], src['region_codes'], src['publication_date']))"
   ]
  },
  {
   "cell_type": "code",
   "execution_count": 135,
   "metadata": {},
   "outputs": [
    {
     "data": {
      "text/plain": [
       "count    990.000000\n",
       "mean     414.140404\n",
       "std      217.787991\n",
       "min       24.000000\n",
       "25%      259.250000\n",
       "50%      376.000000\n",
       "75%      527.500000\n",
       "max      994.000000\n",
       "Name: desc, dtype: float64"
      ]
     },
     "execution_count": 135,
     "metadata": {},
     "output_type": "execute_result"
    }
   ],
   "source": [
    "df_full = pd.DataFrame([{\"title\": x[0], \"desc\": x[1], \"company_codes\": x[2], 'industry_codes': x[3], 'region_codes': x[4], 'publication_date': x[5]} for x in entries])\n",
    "df_full.desc.str.len().describe()"
   ]
  },
  {
   "cell_type": "code",
   "execution_count": 136,
   "metadata": {
    "pycharm": {
     "name": "#%%\n"
    }
   },
   "outputs": [
    {
     "name": "stdout",
     "output_type": "stream",
     "text": [
      "(990, 6)\n",
      "990 990 840\n"
     ]
    }
   ],
   "source": [
    "print(df_full.shape)\n",
    "print(df_full.shape[0], df_full[df_full.desc.str.len() >= 10].shape[0], df_full[df_full.desc.str.len() > 200].shape[0])"
   ]
  },
  {
   "cell_type": "code",
   "execution_count": 137,
   "metadata": {
    "pycharm": {
     "name": "#%%\n"
    }
   },
   "outputs": [],
   "source": [
    "df_full = df_full[df_full.desc.str.len() >= 10].copy()"
   ]
  },
  {
   "cell_type": "code",
   "execution_count": 126,
   "metadata": {
    "pycharm": {
     "name": "#%%\n"
    }
   },
   "outputs": [],
   "source": [
    "class InputFeatures(object):\n",
    "    \"\"\"A single set of features of data.\"\"\"\n",
    "\n",
    "    def __init__(self, input_ids, input_mask, segment_ids, target):\n",
    "        self.input_ids = input_ids\n",
    "        self.input_mask = input_mask\n",
    "        self.segment_ids = segment_ids\n",
    "        self.target = target"
   ]
  },
  {
   "cell_type": "code",
   "execution_count": null,
   "outputs": [],
   "source": [
    "def _truncate_seq_pair(tokens_a, tokens_b, max_length):\n",
    "    \"\"\"Truncates a sequence pair in place to the maximum length.\"\"\"\n",
    "    # This is a simple heuristic which will always truncate the longer sequence\n",
    "    # one token at a time. This makes more sense than truncating an equal percent\n",
    "    # of tokens from each, since if one sequence is very short then each token\n",
    "    # that's truncated likely contains more information than a longer sequence.\n",
    "    while True:\n",
    "        total_length = len(tokens_a) + len(tokens_b)\n",
    "        if total_length <= max_length:\n",
    "            break\n",
    "        if len(tokens_a) > len(tokens_b):\n",
    "            tokens_a.pop()\n",
    "        else:\n",
    "            tokens_b.pop()"
   ],
   "metadata": {
    "collapsed": false,
    "pycharm": {
     "name": "#%%\n"
    }
   }
  },
  {
   "cell_type": "code",
   "execution_count": null,
   "outputs": [],
   "source": [
    "def convert_sentence_pair(titles, descs, max_seq_length, tokenizer):\n",
    "    features = []\n",
    "    for (ex_index, (title, desc)) in enumerate(zip(titles, descs)):\n",
    "        tokens_a = tokenizer.tokenize(title)\n",
    "\n",
    "        tokens_b = None\n",
    "        tokens_b = tokenizer.tokenize(desc)\n",
    "        # Modifies `tokens_a` and `tokens_b` in place so that the total\n",
    "        # length is less than the specified length.\n",
    "        # Account for [CLS], [SEP], [SEP] with \"- 3\"\n",
    "        _truncate_seq_pair(tokens_a, tokens_b, max_seq_length - 3)\n",
    "\n",
    "        # The convention in BERT is:\n",
    "        # (a) For sequence pairs:\n",
    "        #  tokens:   [CLS] is this jack ##son ##ville ? [SEP] no it is not . [SEP]\n",
    "        #  type_ids: 0   0  0    0    0     0       0 0    1  1  1  1   1 1\n",
    "        # (b) For single sequences:\n",
    "        #  tokens:   [CLS] the dog is hairy . [SEP]\n",
    "        #  type_ids: 0   0   0   0  0     0 0\n",
    "        #\n",
    "        # Where \"type_ids\" are used to indicate whether this is the first\n",
    "        # sequence or the second sequence. The embedding vectors for `type=0` and\n",
    "        # `type=1` were learned during pre-training and are added to the wordpiece\n",
    "        # embedding vector (and position vector). This is not *strictly* necessary\n",
    "        # since the [SEP] token unambigiously separates the sequences, but it makes\n",
    "        # it easier for the model to learn the concept of sequences.\n",
    "        #\n",
    "        # For classification tasks, the first vector (corresponding to [CLS]) is\n",
    "        # used as as the \"sentence vector\". Note that this only makes sense because\n",
    "        # the entire model is fine-tuned.\n",
    "        tokens = [\"[CLS]\"] + tokens_a + [\"[SEP]\"]\n",
    "        segment_ids = [0] * len(tokens)\n",
    "\n",
    "        if tokens_b:\n",
    "            tokens += tokens_b + [\"[SEP]\"]\n",
    "            segment_ids += [1] * (len(tokens_b) + 1)\n",
    "\n",
    "        input_ids = tokenizer.convert_tokens_to_ids(tokens)\n",
    "\n",
    "        # The mask has 1 for real tokens and 0 for padding tokens. Only real\n",
    "        # tokens are attended to.\n",
    "        input_mask = [1] * len(input_ids)\n",
    "\n",
    "        # Zero-pad up to the sequence length.\n",
    "        padding = [0] * (max_seq_length - len(input_ids))\n",
    "        input_ids += padding\n",
    "        input_mask += padding\n",
    "        segment_ids += padding\n",
    "\n",
    "        assert len(input_ids) == max_seq_length\n",
    "        assert len(input_mask) == max_seq_length\n",
    "        assert len(segment_ids) == max_seq_length\n",
    "\n",
    "        if ex_index < 5:\n",
    "            logger.info(\"*** Example ***\")\n",
    "            logger.info(\"tokens: %s\" % \" \".join(\n",
    "                    [str(x) for x in tokens]))\n",
    "            logger.info(\"input_ids: %s\" % \" \".join([str(x) for x in input_ids]))\n",
    "            logger.info(\"input_mask: %s\" % \" \".join([str(x) for x in input_mask]))\n",
    "            logger.info(\n",
    "                    \"segment_ids: %s\" % \" \".join([str(x) for x in segment_ids]))\n",
    "\n",
    "        features.append(\n",
    "                InputFeatures(\n",
    "                    input_ids=input_ids,\n",
    "                    input_mask=input_mask,\n",
    "                    segment_ids=segment_ids,\n",
    "                    target=1\n",
    "        ))\n",
    "    return features"
   ],
   "metadata": {
    "collapsed": false,
    "pycharm": {
     "name": "#%%\n"
    }
   }
  },
  {
   "cell_type": "code",
   "execution_count": 91,
   "metadata": {
    "pycharm": {
     "name": "#%%\n"
    }
   },
   "outputs": [
    {
     "name": "stderr",
     "output_type": "stream",
     "text": [
      "09/28/2019 10:21:48 - INFO - pytorch_pretrained_bert_2.tokenization -   loading vocabulary file /Users/julian/hackzurich/bert-base-uncased-vocab.txt\n"
     ]
    }
   ],
   "source": [
    "tokenizer = BertTokenizer.from_pretrained(\n",
    "    \"bert-base-uncased\", do_lower_case=True, \n",
    "    cache_dir='PYTORCH_PRETRAINED_BERT_CACHE')"
   ]
  },
  {
   "cell_type": "code",
   "execution_count": 130,
   "metadata": {
    "pycharm": {
     "name": "#%%\n"
    }
   },
   "outputs": [
    {
     "name": "stderr",
     "output_type": "stream",
     "text": [
      "09/28/2019 13:32:58 - INFO - bert -   *** Example ***\n",
      "09/28/2019 13:32:58 - INFO - bert -   tokens: [CLS] o ’ neill slams twitter draw fix all ##ega ##tion ; gaa chief liam o ’ neill has declared war on twitter . [SEP] president o ’ neill has warned inter - county players about t ##wee ##ts alleging that cr ##oke park rigged the qualifier draw so ca ##van would meet kildare . the second - round draw was made by o ’ neill and former meath player liam hayes live on tv ##3 on monday morning . [SEP]\n",
      "09/28/2019 13:32:58 - INFO - bert -   input_ids: 101 1051 1521 11511 25967 10474 4009 8081 2035 29107 3508 1025 19930 2708 8230 1051 1521 11511 2038 4161 2162 2006 10474 1012 102 2343 1051 1521 11511 2038 7420 6970 1011 2221 2867 2055 1056 28394 3215 23294 2008 13675 11045 2380 25216 1996 10981 4009 2061 6187 6212 2052 3113 24275 1012 1996 2117 1011 2461 4009 2001 2081 2011 1051 1521 11511 1998 2280 26856 2447 8230 10192 2444 2006 2694 2509 2006 6928 2851 1012 102 0 0 0 0 0 0 0 0 0 0 0 0 0 0 0 0 0 0 0 0 0 0 0 0 0 0 0 0 0 0 0 0 0 0 0 0 0 0 0 0 0 0 0 0 0 0 0 0 0 0 0 0 0 0 0 0 0 0 0 0 0 0 0 0 0 0 0 0 0 0 0 0 0 0 0 0 0 0 0 0 0 0 0 0 0 0 0 0 0 0 0 0 0 0 0 0 0 0 0 0 0 0 0 0 0 0 0 0 0 0 0 0 0 0 0 0 0 0 0\n",
      "09/28/2019 13:32:58 - INFO - bert -   input_mask: 1 1 1 1 1 1 1 1 1 1 1 1 1 1 1 1 1 1 1 1 1 1 1 1 1 1 1 1 1 1 1 1 1 1 1 1 1 1 1 1 1 1 1 1 1 1 1 1 1 1 1 1 1 1 1 1 1 1 1 1 1 1 1 1 1 1 1 1 1 1 1 1 1 1 1 1 1 1 1 1 1 0 0 0 0 0 0 0 0 0 0 0 0 0 0 0 0 0 0 0 0 0 0 0 0 0 0 0 0 0 0 0 0 0 0 0 0 0 0 0 0 0 0 0 0 0 0 0 0 0 0 0 0 0 0 0 0 0 0 0 0 0 0 0 0 0 0 0 0 0 0 0 0 0 0 0 0 0 0 0 0 0 0 0 0 0 0 0 0 0 0 0 0 0 0 0 0 0 0 0 0 0 0 0 0 0 0 0 0 0 0 0 0 0 0 0 0 0 0 0\n",
      "09/28/2019 13:32:58 - INFO - bert -   segment_ids: 0 0 0 0 0 0 0 0 0 0 0 0 0 0 0 0 0 0 0 0 0 0 0 0 0 1 1 1 1 1 1 1 1 1 1 1 1 1 1 1 1 1 1 1 1 1 1 1 1 1 1 1 1 1 1 1 1 1 1 1 1 1 1 1 1 1 1 1 1 1 1 1 1 1 1 1 1 1 1 1 1 0 0 0 0 0 0 0 0 0 0 0 0 0 0 0 0 0 0 0 0 0 0 0 0 0 0 0 0 0 0 0 0 0 0 0 0 0 0 0 0 0 0 0 0 0 0 0 0 0 0 0 0 0 0 0 0 0 0 0 0 0 0 0 0 0 0 0 0 0 0 0 0 0 0 0 0 0 0 0 0 0 0 0 0 0 0 0 0 0 0 0 0 0 0 0 0 0 0 0 0 0 0 0 0 0 0 0 0 0 0 0 0 0 0 0 0 0 0 0\n",
      "09/28/2019 13:32:58 - INFO - bert -   *** Example ***\n",
      "09/28/2019 13:32:58 - INFO - bert -   tokens: [CLS] t ##wee ##ting ? it ’ s just a tidal wave of drive ##l ! [SEP] janet street - porter on why she lo ##ath ##es the social phenomenon that ’ s celebrating its fifth anniversary [SEP]\n",
      "09/28/2019 13:32:58 - INFO - bert -   input_ids: 101 1056 28394 3436 1029 2009 1521 1055 2074 1037 15065 4400 1997 3298 2140 999 102 9965 2395 1011 8716 2006 2339 2016 8840 8988 2229 1996 2591 9575 2008 1521 1055 12964 2049 3587 5315 102 0 0 0 0 0 0 0 0 0 0 0 0 0 0 0 0 0 0 0 0 0 0 0 0 0 0 0 0 0 0 0 0 0 0 0 0 0 0 0 0 0 0 0 0 0 0 0 0 0 0 0 0 0 0 0 0 0 0 0 0 0 0 0 0 0 0 0 0 0 0 0 0 0 0 0 0 0 0 0 0 0 0 0 0 0 0 0 0 0 0 0 0 0 0 0 0 0 0 0 0 0 0 0 0 0 0 0 0 0 0 0 0 0 0 0 0 0 0 0 0 0 0 0 0 0 0 0 0 0 0 0 0 0 0 0 0 0 0 0 0 0 0 0 0 0 0 0 0 0 0 0 0 0 0 0 0 0 0 0 0 0 0\n",
      "09/28/2019 13:32:58 - INFO - bert -   input_mask: 1 1 1 1 1 1 1 1 1 1 1 1 1 1 1 1 1 1 1 1 1 1 1 1 1 1 1 1 1 1 1 1 1 1 1 1 1 1 0 0 0 0 0 0 0 0 0 0 0 0 0 0 0 0 0 0 0 0 0 0 0 0 0 0 0 0 0 0 0 0 0 0 0 0 0 0 0 0 0 0 0 0 0 0 0 0 0 0 0 0 0 0 0 0 0 0 0 0 0 0 0 0 0 0 0 0 0 0 0 0 0 0 0 0 0 0 0 0 0 0 0 0 0 0 0 0 0 0 0 0 0 0 0 0 0 0 0 0 0 0 0 0 0 0 0 0 0 0 0 0 0 0 0 0 0 0 0 0 0 0 0 0 0 0 0 0 0 0 0 0 0 0 0 0 0 0 0 0 0 0 0 0 0 0 0 0 0 0 0 0 0 0 0 0 0 0 0 0 0 0\n",
      "09/28/2019 13:32:58 - INFO - bert -   segment_ids: 0 0 0 0 0 0 0 0 0 0 0 0 0 0 0 0 0 1 1 1 1 1 1 1 1 1 1 1 1 1 1 1 1 1 1 1 1 1 0 0 0 0 0 0 0 0 0 0 0 0 0 0 0 0 0 0 0 0 0 0 0 0 0 0 0 0 0 0 0 0 0 0 0 0 0 0 0 0 0 0 0 0 0 0 0 0 0 0 0 0 0 0 0 0 0 0 0 0 0 0 0 0 0 0 0 0 0 0 0 0 0 0 0 0 0 0 0 0 0 0 0 0 0 0 0 0 0 0 0 0 0 0 0 0 0 0 0 0 0 0 0 0 0 0 0 0 0 0 0 0 0 0 0 0 0 0 0 0 0 0 0 0 0 0 0 0 0 0 0 0 0 0 0 0 0 0 0 0 0 0 0 0 0 0 0 0 0 0 0 0 0 0 0 0 0 0 0 0 0 0\n",
      "09/28/2019 13:32:58 - INFO - bert -   *** Example ***\n",
      "09/28/2019 13:32:58 - INFO - bert -   tokens: [CLS] facebook : the page is turning [SEP] london : family life is being disrupted because parents and children are overwhelmed by the tide of online messages they are receiving each day , claim researchers . as a result , one in three of us is now desperate to cut down our use of twitter , facebook and e - mail . [SEP]\n",
      "09/28/2019 13:32:58 - INFO - bert -   input_ids: 101 9130 1024 1996 3931 2003 3810 102 2414 1024 2155 2166 2003 2108 20275 2138 3008 1998 2336 2024 13394 2011 1996 10401 1997 3784 7696 2027 2024 4909 2169 2154 1010 4366 6950 1012 2004 1037 2765 1010 2028 1999 2093 1997 2149 2003 2085 7143 2000 3013 2091 2256 2224 1997 10474 1010 9130 1998 1041 1011 5653 1012 102 0 0 0 0 0 0 0 0 0 0 0 0 0 0 0 0 0 0 0 0 0 0 0 0 0 0 0 0 0 0 0 0 0 0 0 0 0 0 0 0 0 0 0 0 0 0 0 0 0 0 0 0 0 0 0 0 0 0 0 0 0 0 0 0 0 0 0 0 0 0 0 0 0 0 0 0 0 0 0 0 0 0 0 0 0 0 0 0 0 0 0 0 0 0 0 0 0 0 0 0 0 0 0 0 0 0 0 0 0 0 0 0 0 0 0 0 0 0 0 0 0 0 0 0 0 0 0 0 0 0 0 0 0 0 0 0 0\n",
      "09/28/2019 13:32:58 - INFO - bert -   input_mask: 1 1 1 1 1 1 1 1 1 1 1 1 1 1 1 1 1 1 1 1 1 1 1 1 1 1 1 1 1 1 1 1 1 1 1 1 1 1 1 1 1 1 1 1 1 1 1 1 1 1 1 1 1 1 1 1 1 1 1 1 1 1 1 0 0 0 0 0 0 0 0 0 0 0 0 0 0 0 0 0 0 0 0 0 0 0 0 0 0 0 0 0 0 0 0 0 0 0 0 0 0 0 0 0 0 0 0 0 0 0 0 0 0 0 0 0 0 0 0 0 0 0 0 0 0 0 0 0 0 0 0 0 0 0 0 0 0 0 0 0 0 0 0 0 0 0 0 0 0 0 0 0 0 0 0 0 0 0 0 0 0 0 0 0 0 0 0 0 0 0 0 0 0 0 0 0 0 0 0 0 0 0 0 0 0 0 0 0 0 0 0 0 0 0 0 0 0 0 0 0\n",
      "09/28/2019 13:32:58 - INFO - bert -   segment_ids: 0 0 0 0 0 0 0 0 1 1 1 1 1 1 1 1 1 1 1 1 1 1 1 1 1 1 1 1 1 1 1 1 1 1 1 1 1 1 1 1 1 1 1 1 1 1 1 1 1 1 1 1 1 1 1 1 1 1 1 1 1 1 1 0 0 0 0 0 0 0 0 0 0 0 0 0 0 0 0 0 0 0 0 0 0 0 0 0 0 0 0 0 0 0 0 0 0 0 0 0 0 0 0 0 0 0 0 0 0 0 0 0 0 0 0 0 0 0 0 0 0 0 0 0 0 0 0 0 0 0 0 0 0 0 0 0 0 0 0 0 0 0 0 0 0 0 0 0 0 0 0 0 0 0 0 0 0 0 0 0 0 0 0 0 0 0 0 0 0 0 0 0 0 0 0 0 0 0 0 0 0 0 0 0 0 0 0 0 0 0 0 0 0 0 0 0 0 0 0 0\n",
      "09/28/2019 13:32:58 - INFO - bert -   *** Example ***\n",
      "09/28/2019 13:32:58 - INFO - bert -   tokens: [CLS] ' the vow ' a hit after market ##ers say ' i do ' to twitter , facebook [SEP] chan ##ning tatum lowers his green eyes and stares at the camera . \" your friend wanted me to tell you that they think you ' re pretty awesome , \" the 31 - year - old actor says . \" and they love hanging with you . \" [SEP]\n",
      "09/28/2019 13:32:58 - INFO - bert -   input_ids: 101 1005 1996 19076 1005 1037 2718 2044 3006 2545 2360 1005 1045 2079 1005 2000 10474 1010 9130 102 9212 5582 25913 24950 2010 2665 2159 1998 14020 2012 1996 4950 1012 1000 2115 2767 2359 2033 2000 2425 2017 2008 2027 2228 2017 1005 2128 3492 12476 1010 1000 1996 2861 1011 2095 1011 2214 3364 2758 1012 1000 1998 2027 2293 5689 2007 2017 1012 1000 102 0 0 0 0 0 0 0 0 0 0 0 0 0 0 0 0 0 0 0 0 0 0 0 0 0 0 0 0 0 0 0 0 0 0 0 0 0 0 0 0 0 0 0 0 0 0 0 0 0 0 0 0 0 0 0 0 0 0 0 0 0 0 0 0 0 0 0 0 0 0 0 0 0 0 0 0 0 0 0 0 0 0 0 0 0 0 0 0 0 0 0 0 0 0 0 0 0 0 0 0 0 0 0 0 0 0 0 0 0 0 0 0 0 0 0 0 0 0 0 0 0 0 0 0 0 0 0 0 0 0\n",
      "09/28/2019 13:32:58 - INFO - bert -   input_mask: 1 1 1 1 1 1 1 1 1 1 1 1 1 1 1 1 1 1 1 1 1 1 1 1 1 1 1 1 1 1 1 1 1 1 1 1 1 1 1 1 1 1 1 1 1 1 1 1 1 1 1 1 1 1 1 1 1 1 1 1 1 1 1 1 1 1 1 1 1 1 0 0 0 0 0 0 0 0 0 0 0 0 0 0 0 0 0 0 0 0 0 0 0 0 0 0 0 0 0 0 0 0 0 0 0 0 0 0 0 0 0 0 0 0 0 0 0 0 0 0 0 0 0 0 0 0 0 0 0 0 0 0 0 0 0 0 0 0 0 0 0 0 0 0 0 0 0 0 0 0 0 0 0 0 0 0 0 0 0 0 0 0 0 0 0 0 0 0 0 0 0 0 0 0 0 0 0 0 0 0 0 0 0 0 0 0 0 0 0 0 0 0 0 0 0 0 0 0 0 0\n",
      "09/28/2019 13:32:58 - INFO - bert -   segment_ids: 0 0 0 0 0 0 0 0 0 0 0 0 0 0 0 0 0 0 0 0 1 1 1 1 1 1 1 1 1 1 1 1 1 1 1 1 1 1 1 1 1 1 1 1 1 1 1 1 1 1 1 1 1 1 1 1 1 1 1 1 1 1 1 1 1 1 1 1 1 1 0 0 0 0 0 0 0 0 0 0 0 0 0 0 0 0 0 0 0 0 0 0 0 0 0 0 0 0 0 0 0 0 0 0 0 0 0 0 0 0 0 0 0 0 0 0 0 0 0 0 0 0 0 0 0 0 0 0 0 0 0 0 0 0 0 0 0 0 0 0 0 0 0 0 0 0 0 0 0 0 0 0 0 0 0 0 0 0 0 0 0 0 0 0 0 0 0 0 0 0 0 0 0 0 0 0 0 0 0 0 0 0 0 0 0 0 0 0 0 0 0 0 0 0 0 0 0 0 0 0\n",
      "09/28/2019 13:32:58 - INFO - bert -   *** Example ***\n",
      "09/28/2019 13:32:58 - INFO - bert -   tokens: [CLS] zu ##cker ##berg contests suit [SEP] chicago : calling the case a \" bra ##zen and outrageous fraud \" , facebook founder mark zu ##cker ##berg urged a federal court to dismiss a lawsuit by a new york man claiming he owns a huge stake in facebook . in a filing with the us district court in new york , facebook inc and zu ##cker ##berg said the lawsuit by paul ce ##glia is based on a \" doctor ##ed contract and fabricated evidence \" . they also called the plaintiff \" an in ##vet ##erate sc ##am artist whose misconduct extends across decades and borders \" . [SEP]\n"
     ]
    },
    {
     "name": "stderr",
     "output_type": "stream",
     "text": [
      "09/28/2019 13:32:58 - INFO - bert -   input_ids: 101 16950 9102 4059 15795 4848 102 3190 1024 4214 1996 2553 1037 1000 11655 10431 1998 25506 9861 1000 1010 9130 3910 2928 16950 9102 4059 9720 1037 2976 2457 2000 19776 1037 9870 2011 1037 2047 2259 2158 6815 2002 8617 1037 4121 8406 1999 9130 1012 1999 1037 15242 2007 1996 2149 2212 2457 1999 2047 2259 1010 9130 4297 1998 16950 9102 4059 2056 1996 9870 2011 2703 8292 20011 2003 2241 2006 1037 1000 3460 2098 3206 1998 24212 3350 1000 1012 2027 2036 2170 1996 20579 1000 2019 1999 19510 22139 8040 3286 3063 3005 23337 8908 2408 5109 1998 6645 1000 1012 102 0 0 0 0 0 0 0 0 0 0 0 0 0 0 0 0 0 0 0 0 0 0 0 0 0 0 0 0 0 0 0 0 0 0 0 0 0 0 0 0 0 0 0 0 0 0 0 0 0 0 0 0 0 0 0 0 0 0 0 0 0 0 0 0 0 0 0 0 0 0 0 0 0 0 0 0 0 0 0 0 0 0 0 0 0 0 0 0 0 0\n",
      "09/28/2019 13:32:58 - INFO - bert -   input_mask: 1 1 1 1 1 1 1 1 1 1 1 1 1 1 1 1 1 1 1 1 1 1 1 1 1 1 1 1 1 1 1 1 1 1 1 1 1 1 1 1 1 1 1 1 1 1 1 1 1 1 1 1 1 1 1 1 1 1 1 1 1 1 1 1 1 1 1 1 1 1 1 1 1 1 1 1 1 1 1 1 1 1 1 1 1 1 1 1 1 1 1 1 1 1 1 1 1 1 1 1 1 1 1 1 1 1 1 1 1 1 0 0 0 0 0 0 0 0 0 0 0 0 0 0 0 0 0 0 0 0 0 0 0 0 0 0 0 0 0 0 0 0 0 0 0 0 0 0 0 0 0 0 0 0 0 0 0 0 0 0 0 0 0 0 0 0 0 0 0 0 0 0 0 0 0 0 0 0 0 0 0 0 0 0 0 0 0 0 0 0 0 0 0 0 0 0 0 0 0 0\n",
      "09/28/2019 13:32:58 - INFO - bert -   segment_ids: 0 0 0 0 0 0 0 1 1 1 1 1 1 1 1 1 1 1 1 1 1 1 1 1 1 1 1 1 1 1 1 1 1 1 1 1 1 1 1 1 1 1 1 1 1 1 1 1 1 1 1 1 1 1 1 1 1 1 1 1 1 1 1 1 1 1 1 1 1 1 1 1 1 1 1 1 1 1 1 1 1 1 1 1 1 1 1 1 1 1 1 1 1 1 1 1 1 1 1 1 1 1 1 1 1 1 1 1 1 1 0 0 0 0 0 0 0 0 0 0 0 0 0 0 0 0 0 0 0 0 0 0 0 0 0 0 0 0 0 0 0 0 0 0 0 0 0 0 0 0 0 0 0 0 0 0 0 0 0 0 0 0 0 0 0 0 0 0 0 0 0 0 0 0 0 0 0 0 0 0 0 0 0 0 0 0 0 0 0 0 0 0 0 0 0 0 0 0 0 0\n"
     ]
    }
   ],
   "source": [
    "correct_pairs = convert_sentence_pair(df_full.title.tolist(), df_full.desc.tolist(), max_seq_length=200, tokenizer=tokenizer)"
   ]
  },
  {
   "cell_type": "code",
   "execution_count": 93,
   "metadata": {
    "pycharm": {
     "name": "#%%\n"
    }
   },
   "outputs": [
    {
     "data": {
      "text/plain": [
       "990"
      ]
     },
     "execution_count": 93,
     "metadata": {},
     "output_type": "execute_result"
    }
   ],
   "source": [
    "len(correct_pairs)"
   ]
  },
  {
   "cell_type": "markdown",
   "metadata": {
    "pycharm": {
     "name": "#%% md\n"
    }
   },
   "source": [
    "## Model"
   ]
  },
  {
   "cell_type": "code",
   "execution_count": 94,
   "metadata": {
    "pycharm": {
     "name": "#%%\n"
    }
   },
   "outputs": [
    {
     "name": "stderr",
     "output_type": "stream",
     "text": [
      "09/28/2019 10:21:59 - INFO - pytorch_pretrained_bert_2.modeling -   loading archive file /Users/julian/hackzurich/bert-base-uncased.tar.gz\n",
      "09/28/2019 10:21:59 - INFO - pytorch_pretrained_bert_2.modeling -   extracting archive file /Users/julian/hackzurich/bert-base-uncased.tar.gz to temp dir /var/folders/2w/1m5pt0y15v9b52t33h6_4ksr0000gn/T/tmpxxounxve\n"
     ]
    },
    {
     "name": "stdout",
     "output_type": "stream",
     "text": [
      "/Users/julian/hackzurich/temp\n"
     ]
    },
    {
     "name": "stderr",
     "output_type": "stream",
     "text": [
      "09/28/2019 10:22:02 - INFO - pytorch_pretrained_bert_2.modeling -   Model config {\n",
      "  \"attention_probs_dropout_prob\": 0.1,\n",
      "  \"hidden_act\": \"gelu\",\n",
      "  \"hidden_dropout_prob\": 0.1,\n",
      "  \"hidden_size\": 768,\n",
      "  \"initializer_range\": 0.02,\n",
      "  \"intermediate_size\": 3072,\n",
      "  \"max_position_embeddings\": 512,\n",
      "  \"num_attention_heads\": 12,\n",
      "  \"num_hidden_layers\": 12,\n",
      "  \"type_vocab_size\": 2,\n",
      "  \"vocab_size\": 30522\n",
      "}\n",
      "\n"
     ]
    },
    {
     "name": "stdout",
     "output_type": "stream",
     "text": [
      "yooooooo\n",
      "/var/folders/2w/1m5pt0y15v9b52t33h6_4ksr0000gn/T/tmpxxounxve/bert_config.json\n"
     ]
    },
    {
     "name": "stderr",
     "output_type": "stream",
     "text": [
      "09/28/2019 10:22:05 - INFO - pytorch_pretrained_bert_2.modeling -   Weights from pretrained model not used in BertForNextSentencePrediction: ['cls.predictions.bias', 'cls.predictions.transform.dense.weight', 'cls.predictions.transform.dense.bias', 'cls.predictions.decoder.weight', 'cls.predictions.transform.LayerNorm.weight', 'cls.predictions.transform.LayerNorm.bias']\n"
     ]
    }
   ],
   "source": [
    "print(PYTORCH_PRETRAINED_BERT_CACHE)\n",
    "model = BertForNextSentencePrediction.from_pretrained(\n",
    "    \"bert-base-uncased\",\n",
    "    cache_dir=PYTORCH_PRETRAINED_BERT_CACHE\n",
    ").to(device)"
   ]
  },
  {
   "cell_type": "markdown",
   "metadata": {},
   "source": [
    "## Eval Correct Pairs"
   ]
  },
  {
   "cell_type": "code",
   "execution_count": 95,
   "metadata": {
    "pycharm": {
     "name": "#%%\n"
    }
   },
   "outputs": [
    {
     "name": "stderr",
     "output_type": "stream",
     "text": [
      "09/28/2019 10:22:16 - INFO - bert -   ***** Running evaluation *****\n",
      "09/28/2019 10:22:16 - INFO - bert -     Num examples = 990\n",
      "09/28/2019 10:22:16 - INFO - bert -     Batch size = 128\n"
     ]
    },
    {
     "data": {
      "text/html": [
       "\n",
       "    <div>\n",
       "        <style>\n",
       "            /* Turns off some styling */\n",
       "            progress {\n",
       "                /* gets rid of default border in Firefox and Opera. */\n",
       "                border: none;\n",
       "                /* Needs to be in here for Safari polyfill so background images work as expected. */\n",
       "                background-size: auto;\n",
       "            }\n",
       "            .progress-bar-interrupted, .progress-bar-interrupted::-webkit-progress-bar {\n",
       "                background: #F44336;\n",
       "            }\n",
       "        </style>\n",
       "      <progress value='8' class='' max='8', style='width:300px; height:20px; vertical-align: middle;'></progress>\n",
       "      100.00% [8/8 11:09<00:00]\n",
       "    </div>\n",
       "    "
      ],
      "text/plain": [
       "<IPython.core.display.HTML object>"
      ]
     },
     "metadata": {},
     "output_type": "display_data"
    }
   ],
   "source": [
    "BATCH_SIZE = 128\n",
    "logger.info(\"***** Running evaluation *****\")\n",
    "all_input_ids = torch.tensor([f.input_ids for f in correct_pairs], dtype=torch.long)\n",
    "all_input_mask = torch.tensor([f.input_mask for f in correct_pairs], dtype=torch.long)\n",
    "all_segment_ids = torch.tensor([f.segment_ids for f in correct_pairs], dtype=torch.long)\n",
    "eval_data = TensorDataset(all_input_ids, all_input_mask, all_segment_ids)\n",
    "# Run prediction for full data\n",
    "eval_sampler = SequentialSampler(eval_data)\n",
    "eval_dataloader = DataLoader(eval_data, sampler=eval_sampler, batch_size=BATCH_SIZE)\n",
    "\n",
    "logger.info(\"  Num examples = %d\", len(correct_pairs))\n",
    "logger.info(\"  Batch size = %d\", BATCH_SIZE)\n",
    "\n",
    "model.eval()\n",
    "\n",
    "res = []\n",
    "\n",
    "mb = progress_bar(eval_dataloader)\n",
    "for input_ids, input_mask, segment_ids in mb:\n",
    "    input_ids = input_ids.to(device)\n",
    "    input_mask = input_mask.to(device)\n",
    "    segment_ids = segment_ids.to(device)\n",
    "\n",
    "    with torch.no_grad():\n",
    "        res.append(nn.functional.softmax(\n",
    "            model(input_ids, segment_ids, input_mask), dim=1\n",
    "        )[:, 0].detach().cpu().numpy())\n",
    "        \n",
    "res = np.concatenate(res)"
   ]
  },
  {
   "cell_type": "code",
   "execution_count": 96,
   "metadata": {
    "pycharm": {
     "name": "#%%\n"
    }
   },
   "outputs": [
    {
     "data": {
      "image/png": "[encoded data removed]",
      "text/plain": [
       "<Figure size 432x288 with 1 Axes>"
      ]
     },
     "metadata": {
      "needs_background": "light"
     },
     "output_type": "display_data"
    }
   ],
   "source": [
    "_ = plt.hist(res, bins=100)"
   ]
  },
  {
   "cell_type": "code",
   "execution_count": 97,
   "metadata": {
    "pycharm": {
     "name": "#%%\n"
    }
   },
   "outputs": [
    {
     "data": {
      "text/plain": [
       "(0.9808080808080808, 0.9838383838383838, 0.01616161616161616)"
      ]
     },
     "execution_count": 97,
     "metadata": {},
     "output_type": "execute_result"
    }
   ],
   "source": [
    "sum(res > 0.99) / len(res), sum(res > 0.9) / len(res), sum(res < 0.5) / len(res)"
   ]
  },
  {
   "cell_type": "code",
   "execution_count": 107,
   "metadata": {
    "pycharm": {
     "name": "#%%\n"
    }
   },
   "outputs": [
    {
     "data": {
      "text/plain": [
       "16"
      ]
     },
     "execution_count": 107,
     "metadata": {},
     "output_type": "execute_result"
    }
   ],
   "source": [
    "len(np.where(res < 0.5)[0])"
   ]
  },
  {
   "cell_type": "code",
   "execution_count": 102,
   "metadata": {
    "pycharm": {
     "name": "#%%\n"
    }
   },
   "outputs": [
    {
     "data": {
      "text/plain": [
       "('21st century revolution',\n",
       " 'On the first day of mass protests in Egypt, the government of Hosni Mubarak shut down all Internet Service Providers, or ISPs, an unprecedented step in a country with a fairly evolved Internet ecosystem. The rationale behind the decision, one understands, was to prevent the use of Twitter, Facebook and other social networks. One reason obviously was to prevent the use of these sites to organise rallies. The second, and this is possibly more insidious, was to prevent the use of such platforms to get news out of Egypt.')"
      ]
     },
     "execution_count": 102,
     "metadata": {},
     "output_type": "execute_result"
    }
   ],
   "source": [
    "idx = 141\n",
    "df_full.iloc[idx].title, df_full.iloc[idx].desc"
   ]
  },
  {
   "cell_type": "markdown",
   "metadata": {
    "pycharm": {
     "name": "#%% md\n"
    }
   },
   "source": [
    "## Find similar entries"
   ]
  },
  {
   "cell_type": "code",
   "execution_count": 103,
   "metadata": {
    "pycharm": {
     "name": "#%%\n"
    }
   },
   "outputs": [
    {
     "data": {
      "text/plain": [
       "{'desc': 'PALO ALTO, Calif. — For months, Facebook was uncharacteristically quiet about its membership growth. Whispers among those who closely follow the social-networking giant reached full-throated debate a few weeks ago, with word that Facebook’s numbers were down in the U.S. and several other countries.\\n\\nBut Wednesday, the company broke its silence and announced it had passed 750 million worldwide members who post billions of messages each day.',\n",
       " 'title': 'Facebook passes 750 million members'}"
      ]
     },
     "execution_count": 103,
     "metadata": {},
     "output_type": "execute_result"
    }
   ],
   "source": [
    "df_full.iloc[102].to_dict()"
   ]
  },
  {
   "cell_type": "code",
   "execution_count": 109,
   "metadata": {
    "pycharm": {
     "name": "#%%\n"
    }
   },
   "outputs": [
    {
     "name": "stderr",
     "output_type": "stream",
     "text": [
      "09/28/2019 10:37:36 - INFO - bert -   *** Example ***\n",
      "09/28/2019 10:37:36 - INFO - bert -   tokens: [CLS] facebook passes 750 million members [SEP] president o ’ neill has warned inter - county players about t ##wee ##ts alleging that cr ##oke park rigged the qualifier draw so ca ##van would meet kildare . the second - round draw was made by o ’ neill and former meath player liam hayes live on tv ##3 on monday morning . [SEP]\n",
      "09/28/2019 10:37:36 - INFO - bert -   input_ids: 101 9130 5235 9683 2454 2372 102 2343 1051 1521 11511 2038 7420 6970 1011 2221 2867 2055 1056 28394 3215 23294 2008 13675 11045 2380 25216 1996 10981 4009 2061 6187 6212 2052 3113 24275 1012 1996 2117 1011 2461 4009 2001 2081 2011 1051 1521 11511 1998 2280 26856 2447 8230 10192 2444 2006 2694 2509 2006 6928 2851 1012 102 0 0 0 0 0 0 0 0 0 0 0 0 0 0 0 0 0 0 0 0 0 0 0 0 0 0 0 0 0 0 0 0 0 0 0 0 0 0 0 0 0 0 0 0 0 0 0 0 0 0 0 0 0 0 0 0 0 0 0 0 0 0 0 0 0 0 0 0 0 0 0 0 0 0 0 0 0 0 0 0 0 0 0 0 0 0 0 0 0 0 0 0 0 0 0 0 0 0 0 0 0 0 0 0 0 0 0 0 0 0 0 0 0 0 0 0 0 0 0 0 0 0 0 0 0 0 0 0 0 0 0 0 0 0 0 0 0\n",
      "09/28/2019 10:37:36 - INFO - bert -   input_mask: 1 1 1 1 1 1 1 1 1 1 1 1 1 1 1 1 1 1 1 1 1 1 1 1 1 1 1 1 1 1 1 1 1 1 1 1 1 1 1 1 1 1 1 1 1 1 1 1 1 1 1 1 1 1 1 1 1 1 1 1 1 1 1 0 0 0 0 0 0 0 0 0 0 0 0 0 0 0 0 0 0 0 0 0 0 0 0 0 0 0 0 0 0 0 0 0 0 0 0 0 0 0 0 0 0 0 0 0 0 0 0 0 0 0 0 0 0 0 0 0 0 0 0 0 0 0 0 0 0 0 0 0 0 0 0 0 0 0 0 0 0 0 0 0 0 0 0 0 0 0 0 0 0 0 0 0 0 0 0 0 0 0 0 0 0 0 0 0 0 0 0 0 0 0 0 0 0 0 0 0 0 0 0 0 0 0 0 0 0 0 0 0 0 0 0 0 0 0 0 0\n",
      "09/28/2019 10:37:36 - INFO - bert -   segment_ids: 0 0 0 0 0 0 0 1 1 1 1 1 1 1 1 1 1 1 1 1 1 1 1 1 1 1 1 1 1 1 1 1 1 1 1 1 1 1 1 1 1 1 1 1 1 1 1 1 1 1 1 1 1 1 1 1 1 1 1 1 1 1 1 0 0 0 0 0 0 0 0 0 0 0 0 0 0 0 0 0 0 0 0 0 0 0 0 0 0 0 0 0 0 0 0 0 0 0 0 0 0 0 0 0 0 0 0 0 0 0 0 0 0 0 0 0 0 0 0 0 0 0 0 0 0 0 0 0 0 0 0 0 0 0 0 0 0 0 0 0 0 0 0 0 0 0 0 0 0 0 0 0 0 0 0 0 0 0 0 0 0 0 0 0 0 0 0 0 0 0 0 0 0 0 0 0 0 0 0 0 0 0 0 0 0 0 0 0 0 0 0 0 0 0 0 0 0 0 0 0\n",
      "09/28/2019 10:37:36 - INFO - bert -   *** Example ***\n",
      "09/28/2019 10:37:36 - INFO - bert -   tokens: [CLS] facebook passes 750 million members [SEP] janet street - porter on why she lo ##ath ##es the social phenomenon that ’ s celebrating its fifth anniversary [SEP]\n",
      "09/28/2019 10:37:36 - INFO - bert -   input_ids: 101 9130 5235 9683 2454 2372 102 9965 2395 1011 8716 2006 2339 2016 8840 8988 2229 1996 2591 9575 2008 1521 1055 12964 2049 3587 5315 102 0 0 0 0 0 0 0 0 0 0 0 0 0 0 0 0 0 0 0 0 0 0 0 0 0 0 0 0 0 0 0 0 0 0 0 0 0 0 0 0 0 0 0 0 0 0 0 0 0 0 0 0 0 0 0 0 0 0 0 0 0 0 0 0 0 0 0 0 0 0 0 0 0 0 0 0 0 0 0 0 0 0 0 0 0 0 0 0 0 0 0 0 0 0 0 0 0 0 0 0 0 0 0 0 0 0 0 0 0 0 0 0 0 0 0 0 0 0 0 0 0 0 0 0 0 0 0 0 0 0 0 0 0 0 0 0 0 0 0 0 0 0 0 0 0 0 0 0 0 0 0 0 0 0 0 0 0 0 0 0 0 0 0 0 0 0 0 0 0 0 0 0\n",
      "09/28/2019 10:37:36 - INFO - bert -   input_mask: 1 1 1 1 1 1 1 1 1 1 1 1 1 1 1 1 1 1 1 1 1 1 1 1 1 1 1 1 0 0 0 0 0 0 0 0 0 0 0 0 0 0 0 0 0 0 0 0 0 0 0 0 0 0 0 0 0 0 0 0 0 0 0 0 0 0 0 0 0 0 0 0 0 0 0 0 0 0 0 0 0 0 0 0 0 0 0 0 0 0 0 0 0 0 0 0 0 0 0 0 0 0 0 0 0 0 0 0 0 0 0 0 0 0 0 0 0 0 0 0 0 0 0 0 0 0 0 0 0 0 0 0 0 0 0 0 0 0 0 0 0 0 0 0 0 0 0 0 0 0 0 0 0 0 0 0 0 0 0 0 0 0 0 0 0 0 0 0 0 0 0 0 0 0 0 0 0 0 0 0 0 0 0 0 0 0 0 0 0 0 0 0 0 0 0 0 0 0 0 0\n",
      "09/28/2019 10:37:36 - INFO - bert -   segment_ids: 0 0 0 0 0 0 0 1 1 1 1 1 1 1 1 1 1 1 1 1 1 1 1 1 1 1 1 1 0 0 0 0 0 0 0 0 0 0 0 0 0 0 0 0 0 0 0 0 0 0 0 0 0 0 0 0 0 0 0 0 0 0 0 0 0 0 0 0 0 0 0 0 0 0 0 0 0 0 0 0 0 0 0 0 0 0 0 0 0 0 0 0 0 0 0 0 0 0 0 0 0 0 0 0 0 0 0 0 0 0 0 0 0 0 0 0 0 0 0 0 0 0 0 0 0 0 0 0 0 0 0 0 0 0 0 0 0 0 0 0 0 0 0 0 0 0 0 0 0 0 0 0 0 0 0 0 0 0 0 0 0 0 0 0 0 0 0 0 0 0 0 0 0 0 0 0 0 0 0 0 0 0 0 0 0 0 0 0 0 0 0 0 0 0 0 0 0 0 0 0\n",
      "09/28/2019 10:37:36 - INFO - bert -   *** Example ***\n",
      "09/28/2019 10:37:36 - INFO - bert -   tokens: [CLS] facebook passes 750 million members [SEP] london : family life is being disrupted because parents and children are overwhelmed by the tide of online messages they are receiving each day , claim researchers . as a result , one in three of us is now desperate to cut down our use of twitter , facebook and e - mail . [SEP]\n",
      "09/28/2019 10:37:36 - INFO - bert -   input_ids: 101 9130 5235 9683 2454 2372 102 2414 1024 2155 2166 2003 2108 20275 2138 3008 1998 2336 2024 13394 2011 1996 10401 1997 3784 7696 2027 2024 4909 2169 2154 1010 4366 6950 1012 2004 1037 2765 1010 2028 1999 2093 1997 2149 2003 2085 7143 2000 3013 2091 2256 2224 1997 10474 1010 9130 1998 1041 1011 5653 1012 102 0 0 0 0 0 0 0 0 0 0 0 0 0 0 0 0 0 0 0 0 0 0 0 0 0 0 0 0 0 0 0 0 0 0 0 0 0 0 0 0 0 0 0 0 0 0 0 0 0 0 0 0 0 0 0 0 0 0 0 0 0 0 0 0 0 0 0 0 0 0 0 0 0 0 0 0 0 0 0 0 0 0 0 0 0 0 0 0 0 0 0 0 0 0 0 0 0 0 0 0 0 0 0 0 0 0 0 0 0 0 0 0 0 0 0 0 0 0 0 0 0 0 0 0 0 0 0 0 0 0 0 0 0 0 0 0 0 0\n",
      "09/28/2019 10:37:36 - INFO - bert -   input_mask: 1 1 1 1 1 1 1 1 1 1 1 1 1 1 1 1 1 1 1 1 1 1 1 1 1 1 1 1 1 1 1 1 1 1 1 1 1 1 1 1 1 1 1 1 1 1 1 1 1 1 1 1 1 1 1 1 1 1 1 1 1 1 0 0 0 0 0 0 0 0 0 0 0 0 0 0 0 0 0 0 0 0 0 0 0 0 0 0 0 0 0 0 0 0 0 0 0 0 0 0 0 0 0 0 0 0 0 0 0 0 0 0 0 0 0 0 0 0 0 0 0 0 0 0 0 0 0 0 0 0 0 0 0 0 0 0 0 0 0 0 0 0 0 0 0 0 0 0 0 0 0 0 0 0 0 0 0 0 0 0 0 0 0 0 0 0 0 0 0 0 0 0 0 0 0 0 0 0 0 0 0 0 0 0 0 0 0 0 0 0 0 0 0 0 0 0 0 0 0 0\n",
      "09/28/2019 10:37:36 - INFO - bert -   segment_ids: 0 0 0 0 0 0 0 1 1 1 1 1 1 1 1 1 1 1 1 1 1 1 1 1 1 1 1 1 1 1 1 1 1 1 1 1 1 1 1 1 1 1 1 1 1 1 1 1 1 1 1 1 1 1 1 1 1 1 1 1 1 1 0 0 0 0 0 0 0 0 0 0 0 0 0 0 0 0 0 0 0 0 0 0 0 0 0 0 0 0 0 0 0 0 0 0 0 0 0 0 0 0 0 0 0 0 0 0 0 0 0 0 0 0 0 0 0 0 0 0 0 0 0 0 0 0 0 0 0 0 0 0 0 0 0 0 0 0 0 0 0 0 0 0 0 0 0 0 0 0 0 0 0 0 0 0 0 0 0 0 0 0 0 0 0 0 0 0 0 0 0 0 0 0 0 0 0 0 0 0 0 0 0 0 0 0 0 0 0 0 0 0 0 0 0 0 0 0 0 0\n",
      "09/28/2019 10:37:36 - INFO - bert -   *** Example ***\n",
      "09/28/2019 10:37:36 - INFO - bert -   tokens: [CLS] facebook passes 750 million members [SEP] chan ##ning tatum lowers his green eyes and stares at the camera . \" your friend wanted me to tell you that they think you ' re pretty awesome , \" the 31 - year - old actor says . \" and they love hanging with you . \" [SEP]\n",
      "09/28/2019 10:37:36 - INFO - bert -   input_ids: 101 9130 5235 9683 2454 2372 102 9212 5582 25913 24950 2010 2665 2159 1998 14020 2012 1996 4950 1012 1000 2115 2767 2359 2033 2000 2425 2017 2008 2027 2228 2017 1005 2128 3492 12476 1010 1000 1996 2861 1011 2095 1011 2214 3364 2758 1012 1000 1998 2027 2293 5689 2007 2017 1012 1000 102 0 0 0 0 0 0 0 0 0 0 0 0 0 0 0 0 0 0 0 0 0 0 0 0 0 0 0 0 0 0 0 0 0 0 0 0 0 0 0 0 0 0 0 0 0 0 0 0 0 0 0 0 0 0 0 0 0 0 0 0 0 0 0 0 0 0 0 0 0 0 0 0 0 0 0 0 0 0 0 0 0 0 0 0 0 0 0 0 0 0 0 0 0 0 0 0 0 0 0 0 0 0 0 0 0 0 0 0 0 0 0 0 0 0 0 0 0 0 0 0 0 0 0 0 0 0 0 0 0 0 0 0 0 0 0 0 0 0 0 0 0 0 0\n",
      "09/28/2019 10:37:36 - INFO - bert -   input_mask: 1 1 1 1 1 1 1 1 1 1 1 1 1 1 1 1 1 1 1 1 1 1 1 1 1 1 1 1 1 1 1 1 1 1 1 1 1 1 1 1 1 1 1 1 1 1 1 1 1 1 1 1 1 1 1 1 1 0 0 0 0 0 0 0 0 0 0 0 0 0 0 0 0 0 0 0 0 0 0 0 0 0 0 0 0 0 0 0 0 0 0 0 0 0 0 0 0 0 0 0 0 0 0 0 0 0 0 0 0 0 0 0 0 0 0 0 0 0 0 0 0 0 0 0 0 0 0 0 0 0 0 0 0 0 0 0 0 0 0 0 0 0 0 0 0 0 0 0 0 0 0 0 0 0 0 0 0 0 0 0 0 0 0 0 0 0 0 0 0 0 0 0 0 0 0 0 0 0 0 0 0 0 0 0 0 0 0 0 0 0 0 0 0 0 0 0 0 0 0 0\n",
      "09/28/2019 10:37:36 - INFO - bert -   segment_ids: 0 0 0 0 0 0 0 1 1 1 1 1 1 1 1 1 1 1 1 1 1 1 1 1 1 1 1 1 1 1 1 1 1 1 1 1 1 1 1 1 1 1 1 1 1 1 1 1 1 1 1 1 1 1 1 1 1 0 0 0 0 0 0 0 0 0 0 0 0 0 0 0 0 0 0 0 0 0 0 0 0 0 0 0 0 0 0 0 0 0 0 0 0 0 0 0 0 0 0 0 0 0 0 0 0 0 0 0 0 0 0 0 0 0 0 0 0 0 0 0 0 0 0 0 0 0 0 0 0 0 0 0 0 0 0 0 0 0 0 0 0 0 0 0 0 0 0 0 0 0 0 0 0 0 0 0 0 0 0 0 0 0 0 0 0 0 0 0 0 0 0 0 0 0 0 0 0 0 0 0 0 0 0 0 0 0 0 0 0 0 0 0 0 0 0 0 0 0 0 0\n",
      "09/28/2019 10:37:36 - INFO - bert -   *** Example ***\n",
      "09/28/2019 10:37:36 - INFO - bert -   tokens: [CLS] facebook passes 750 million members [SEP] chicago : calling the case a \" bra ##zen and outrageous fraud \" , facebook founder mark zu ##cker ##berg urged a federal court to dismiss a lawsuit by a new york man claiming he owns a huge stake in facebook . in a filing with the us district court in new york , facebook inc and zu ##cker ##berg said the lawsuit by paul ce ##glia is based on a \" doctor ##ed contract and fabricated evidence \" . they also called the plaintiff \" an in ##vet ##erate sc ##am artist whose misconduct extends across decades and borders \" . [SEP]\n"
     ]
    },
    {
     "name": "stderr",
     "output_type": "stream",
     "text": [
      "09/28/2019 10:37:36 - INFO - bert -   input_ids: 101 9130 5235 9683 2454 2372 102 3190 1024 4214 1996 2553 1037 1000 11655 10431 1998 25506 9861 1000 1010 9130 3910 2928 16950 9102 4059 9720 1037 2976 2457 2000 19776 1037 9870 2011 1037 2047 2259 2158 6815 2002 8617 1037 4121 8406 1999 9130 1012 1999 1037 15242 2007 1996 2149 2212 2457 1999 2047 2259 1010 9130 4297 1998 16950 9102 4059 2056 1996 9870 2011 2703 8292 20011 2003 2241 2006 1037 1000 3460 2098 3206 1998 24212 3350 1000 1012 2027 2036 2170 1996 20579 1000 2019 1999 19510 22139 8040 3286 3063 3005 23337 8908 2408 5109 1998 6645 1000 1012 102 0 0 0 0 0 0 0 0 0 0 0 0 0 0 0 0 0 0 0 0 0 0 0 0 0 0 0 0 0 0 0 0 0 0 0 0 0 0 0 0 0 0 0 0 0 0 0 0 0 0 0 0 0 0 0 0 0 0 0 0 0 0 0 0 0 0 0 0 0 0 0 0 0 0 0 0 0 0 0 0 0 0 0 0 0 0 0 0 0 0\n",
      "09/28/2019 10:37:36 - INFO - bert -   input_mask: 1 1 1 1 1 1 1 1 1 1 1 1 1 1 1 1 1 1 1 1 1 1 1 1 1 1 1 1 1 1 1 1 1 1 1 1 1 1 1 1 1 1 1 1 1 1 1 1 1 1 1 1 1 1 1 1 1 1 1 1 1 1 1 1 1 1 1 1 1 1 1 1 1 1 1 1 1 1 1 1 1 1 1 1 1 1 1 1 1 1 1 1 1 1 1 1 1 1 1 1 1 1 1 1 1 1 1 1 1 1 0 0 0 0 0 0 0 0 0 0 0 0 0 0 0 0 0 0 0 0 0 0 0 0 0 0 0 0 0 0 0 0 0 0 0 0 0 0 0 0 0 0 0 0 0 0 0 0 0 0 0 0 0 0 0 0 0 0 0 0 0 0 0 0 0 0 0 0 0 0 0 0 0 0 0 0 0 0 0 0 0 0 0 0 0 0 0 0 0 0\n",
      "09/28/2019 10:37:36 - INFO - bert -   segment_ids: 0 0 0 0 0 0 0 1 1 1 1 1 1 1 1 1 1 1 1 1 1 1 1 1 1 1 1 1 1 1 1 1 1 1 1 1 1 1 1 1 1 1 1 1 1 1 1 1 1 1 1 1 1 1 1 1 1 1 1 1 1 1 1 1 1 1 1 1 1 1 1 1 1 1 1 1 1 1 1 1 1 1 1 1 1 1 1 1 1 1 1 1 1 1 1 1 1 1 1 1 1 1 1 1 1 1 1 1 1 1 0 0 0 0 0 0 0 0 0 0 0 0 0 0 0 0 0 0 0 0 0 0 0 0 0 0 0 0 0 0 0 0 0 0 0 0 0 0 0 0 0 0 0 0 0 0 0 0 0 0 0 0 0 0 0 0 0 0 0 0 0 0 0 0 0 0 0 0 0 0 0 0 0 0 0 0 0 0 0 0 0 0 0 0 0 0 0 0 0 0\n"
     ]
    },
    {
     "data": {
      "text/plain": [
       "('Facebook passes 750 million members',\n",
       " 'PALO ALTO, Calif. — For months, Facebook was uncharacteristically quiet about its membership growth. Whispers among those who closely follow the social-networking giant reached full-throated debate a few weeks ago, with word that Facebook’s numbers were down in the U.S. and several other countries.\\n\\nBut Wednesday, the company broke its silence and announced it had passed 750 million worldwide members who post billions of messages each day.')"
      ]
     },
     "execution_count": 109,
     "metadata": {},
     "output_type": "execute_result"
    }
   ],
   "source": [
    "idx = 102\n",
    "sentence_pairs = convert_sentence_pair(\n",
    "    [df_full.iloc[idx][\"title\"]] * df_full.shape[0], \n",
    "    df_full.desc.tolist(), max_seq_length=200, tokenizer=tokenizer)\n",
    "df_full.iloc[idx].title, df_full.iloc[idx].desc"
   ]
  },
  {
   "cell_type": "code",
   "execution_count": 110,
   "metadata": {
    "pycharm": {
     "name": "#%%\n"
    }
   },
   "outputs": [
    {
     "name": "stderr",
     "output_type": "stream",
     "text": [
      "09/28/2019 10:37:46 - INFO - bert -   ***** Running evaluation *****\n",
      "09/28/2019 10:37:46 - INFO - bert -     Num examples = 990\n",
      "09/28/2019 10:37:46 - INFO - bert -     Batch size = 128\n"
     ]
    },
    {
     "data": {
      "text/html": [
       "\n",
       "    <div>\n",
       "        <style>\n",
       "            /* Turns off some styling */\n",
       "            progress {\n",
       "                /* gets rid of default border in Firefox and Opera. */\n",
       "                border: none;\n",
       "                /* Needs to be in here for Safari polyfill so background images work as expected. */\n",
       "                background-size: auto;\n",
       "            }\n",
       "            .progress-bar-interrupted, .progress-bar-interrupted::-webkit-progress-bar {\n",
       "                background: #F44336;\n",
       "            }\n",
       "        </style>\n",
       "      <progress value='8' class='' max='8', style='width:300px; height:20px; vertical-align: middle;'></progress>\n",
       "      100.00% [8/8 10:01<00:00]\n",
       "    </div>\n",
       "    "
      ],
      "text/plain": [
       "<IPython.core.display.HTML object>"
      ]
     },
     "metadata": {},
     "output_type": "display_data"
    }
   ],
   "source": [
    "BATCH_SIZE = 128\n",
    "logger.info(\"***** Running evaluation *****\")\n",
    "all_input_ids = torch.tensor([f.input_ids for f in sentence_pairs], dtype=torch.long)\n",
    "all_input_mask = torch.tensor([f.input_mask for f in sentence_pairs], dtype=torch.long)\n",
    "all_segment_ids = torch.tensor([f.segment_ids for f in sentence_pairs], dtype=torch.long)\n",
    "eval_data = TensorDataset(all_input_ids, all_input_mask, all_segment_ids)\n",
    "# Run prediction for full data\n",
    "eval_sampler = SequentialSampler(eval_data)\n",
    "eval_dataloader = DataLoader(eval_data, sampler=eval_sampler, batch_size=BATCH_SIZE)\n",
    "\n",
    "logger.info(\"  Num examples = %d\", len(correct_pairs))\n",
    "logger.info(\"  Batch size = %d\", BATCH_SIZE)\n",
    "\n",
    "model.eval()\n",
    "\n",
    "res = []\n",
    "\n",
    "mb = progress_bar(eval_dataloader)\n",
    "for input_ids, input_mask, segment_ids in mb:\n",
    "    input_ids = input_ids.to(device)\n",
    "    input_mask = input_mask.to(device)\n",
    "    segment_ids = segment_ids.to(device)\n",
    "\n",
    "    with torch.no_grad():\n",
    "        res.append(nn.functional.softmax(\n",
    "            model(input_ids, segment_ids, input_mask), dim=1\n",
    "        )[:, 0].detach().cpu().numpy())\n",
    "        \n",
    "res = np.concatenate(res)"
   ]
  },
  {
   "cell_type": "code",
   "execution_count": 111,
   "metadata": {
    "pycharm": {
     "name": "#%%\n"
    }
   },
   "outputs": [
    {
     "data": {
      "image/png": "[encoded data removed]",
      "text/plain": [
       "<Figure size 432x288 with 1 Axes>"
      ]
     },
     "metadata": {
      "needs_background": "light"
     },
     "output_type": "display_data"
    }
   ],
   "source": [
    "_ = plt.hist(res, bins=100)"
   ]
  },
  {
   "cell_type": "code",
   "execution_count": 118,
   "metadata": {
    "pycharm": {
     "name": "#%%\n"
    }
   },
   "outputs": [
    {
     "data": {
      "text/plain": [
       "array([292, 728, 964, 175, 203, 102, 451, 120, 126, 966])"
      ]
     },
     "execution_count": 118,
     "metadata": {},
     "output_type": "execute_result"
    }
   ],
   "source": [
    "all_sorted_matches = np.argsort(res)[::-1]\n",
    "best_matches = np.argsort(res)[::-1][:10]\n",
    "best_matches"
   ]
  },
  {
   "cell_type": "code",
   "execution_count": 138,
   "metadata": {
    "pycharm": {
     "name": "#%%\n"
    }
   },
   "outputs": [
    {
     "name": "stdout",
     "output_type": "stream",
     "text": [
      "{'company_codes': ',onlnfr,onlnfr,yoinco,',\n",
      " 'desc': 'THE statistics speak for themselves -- Facebook has more than 500 '\n",
      "         'million members worldwide.\\n'\n",
      "         '\\n'\n",
      "         \"And Earth's 200 million Twitter converts send one billion tweets a \"\n",
      "         'week.',\n",
      " 'industry_codes': ',isocial,iint,imed,',\n",
      " 'publication_date': '1301097600000',\n",
      " 'region_codes': ',austr,apacz,ausnz,',\n",
      " 'title': \"Face it, we're all obsessed\"}\n",
      "{'company_codes': ',onlnfr,onlnfr,',\n",
      " 'desc': 'Facebook Inc., which filed for a public offering last week, '\n",
      "         'disclosed in its paperwork that although more than half of its 845 '\n",
      "         'million members log into Facebook on a mobile device, the company '\n",
      "         'has not yet found a way to make real money from that use,  reports '\n",
      "         'The New York Times.\\n'\n",
      "         '\\n'\n",
      "         'The mobile hurdle is particularly troubling because Facebook is '\n",
      "         'realizing much of its worldwide growth in countries like Chile, '\n",
      "         'Turkey and Brazil — countries where the Internet is predominantly '\n",
      "         'accessed via cellphones.',\n",
      " 'industry_codes': ',iint,imed,isocial,',\n",
      " 'publication_date': '1328572800000',\n",
      " 'region_codes': ',ustn,namz,usa,uss,',\n",
      " 'title': 'Facebook struggles with mobility'}\n",
      "{'company_codes': ',onlnfr,onlnfr,',\n",
      " 'desc': 'Facebook Inc., which filed for a public offering last week, '\n",
      "         'disclosed in its paperwork that although more than half of its 845 '\n",
      "         'million members log into Facebook on a mobile device, the company '\n",
      "         'has not yet found a way to make real money from that use,  reports '\n",
      "         'The New York Times.\\n'\n",
      "         '\\n'\n",
      "         'The mobile hurdle is particularly troubling because Facebook is '\n",
      "         'realizing much of its worldwide growth in countries like Chile, '\n",
      "         'Turkey and Brazil — countries where the Internet is predominantly '\n",
      "         'accessed via cellphones.',\n",
      " 'industry_codes': ',iint,imed,isocial,',\n",
      " 'publication_date': '1328572800000',\n",
      " 'region_codes': ',ustn,namz,usa,uss,',\n",
      " 'title': 'Facebook struggles with mobility'}\n",
      "{'company_codes': ',onlnfr,onlnfr,',\n",
      " 'desc': 'WITH over 500 million members, social media networks like Facebook '\n",
      "         'have become a part of daily life.\\n'\n",
      "         '\\n'\n",
      "         \"To meet society's growing desire to be connected at all times, GM's \"\n",
      "         'OnStar division is unveiling a new social media interactive program '\n",
      "         'for the car.',\n",
      " 'industry_codes': ',iint,imed,isocial,',\n",
      " 'publication_date': '1293062400000',\n",
      " 'region_codes': ',austr,ausnz,apacz,',\n",
      " 'title': 'Facebook in your car'}\n",
      "{'company_codes': ',onlnfr,onlnfr,',\n",
      " 'desc': 'WITH over 500 million members, social media networks like Facebook '\n",
      "         'have become a part of daily life.\\n'\n",
      "         '\\n'\n",
      "         \"To meet society's growing desire to be connected at all times, GM's \"\n",
      "         'OnStar division is unveiling a new social media interactive program '\n",
      "         'for the car.',\n",
      " 'industry_codes': ',iint,imed,isocial,',\n",
      " 'publication_date': '1293062400000',\n",
      " 'region_codes': ',austr,ausnz,apacz,',\n",
      " 'title': 'Facebook in your car'}\n",
      "{'company_codes': ',onlnfr,goog,onlnfr,',\n",
      " 'desc': 'PALO ALTO, Calif. — For months, Facebook was uncharacteristically '\n",
      "         'quiet about its membership growth. Whispers among those who closely '\n",
      "         'follow the social-networking giant reached full-throated debate a '\n",
      "         'few weeks ago, with word that Facebook’s numbers were down in the '\n",
      "         'U.S. and several other countries.\\n'\n",
      "         '\\n'\n",
      "         'But Wednesday, the company broke its silence and announced it had '\n",
      "         'passed 750 million worldwide members who post billions of messages '\n",
      "         'each day.',\n",
      " 'industry_codes': ',iint,imed,isocial,',\n",
      " 'publication_date': '1309996800000',\n",
      " 'region_codes': ',usa,usca,namz,usw,',\n",
      " 'title': 'Facebook passes 750 million members'}\n",
      "{'company_codes': ',onlnfr,onlnfr,',\n",
      " 'desc': 'FACEBOOK is not the demon that some authorities are trying to make '\n",
      "         'out it is.\\n'\n",
      "         '\\n'\n",
      "         'At its best, the website is a meeting place for like-minded people, '\n",
      "         'acquaintances, colleagues and friends. At its worst it is a trawling '\n",
      "         'ground for idiots, vandals and even paedophiles.',\n",
      " 'industry_codes': ',iint,imed,isocial,',\n",
      " 'publication_date': '1289606400000',\n",
      " 'region_codes': ',austr,ausnz,apacz,',\n",
      " 'title': 'Facebook not to blame for idiots'}\n",
      "{'company_codes': ',twnit,ebayus,goog,onlnfr,twnit,xcmcrp,',\n",
      " 'desc': 'Twitter Inc. says it now has 145 million registered users, a big '\n",
      "         'jump from the 105.8 million the company reported in April. The San '\n",
      "         'Francisco microblogging service credits the 27 percent growth spurt '\n",
      "         'to its move to make it easier to access Twitter on mobile devices.\\n'\n",
      "         '\\n'\n",
      "         \"Chief Executive Officer Evan Williams made Twitter's latest \"\n",
      "         'milestone public at the end of a blog post that talked about how its '\n",
      "         'users are shifting to mobile devices.',\n",
      " 'industry_codes': ',iint,imed,isocial,',\n",
      " 'publication_date': '1283558400000',\n",
      " 'region_codes': ',usca,namz,usa,usw,',\n",
      " 'title': 'Big jump in number of people on Twitter'}\n",
      "{'company_codes': ',twnit,ebayus,goog,onlnfr,twnit,xcmcrp,',\n",
      " 'desc': 'Twitter Inc. says it now has 145 million registered users, a big '\n",
      "         'jump from the 105.8 million the company reported in April. The San '\n",
      "         'Francisco microblogging service credits the 27 percent growth spurt '\n",
      "         'to its move to make it easier to access Twitter on mobile devices.\\n'\n",
      "         '\\n'\n",
      "         \"Chief Executive Officer Evan Williams made Twitter's latest \"\n",
      "         'milestone public at the end of a blog post that talked about how its '\n",
      "         'users are shifting to mobile devices.',\n",
      " 'industry_codes': ',iint,imed,isocial,',\n",
      " 'publication_date': '1283558400000',\n",
      " 'region_codes': ',usca,namz,usa,usw,',\n",
      " 'title': 'Big jump in number of people on Twitter'}\n",
      "{'company_codes': ',elarts,onlnfr,pzaoob,vnu,onlnfr,',\n",
      " 'desc': 'Americans are spending a quarter of their Internet time on Facebook '\n",
      "         'or other social networking sites, while online video games have '\n",
      "         'passed sending e-mail as the second most popular online activity, '\n",
      "         'according to a new report from the Nielsen Co.\\n'\n",
      "         '\\n'\n",
      "         'The report said that Americans spent 22.7 percent of their online '\n",
      "         'time on social networking or blogs in June 2010, a 43 percent '\n",
      "         'increase compared to June 2009.',\n",
      " 'industry_codes': ',iint,imed,isocial,',\n",
      " 'publication_date': '1280793600000',\n",
      " 'region_codes': ',usca,namz,usa,usw,',\n",
      " 'title': 'Social media sites, games top 2 online activities'}\n"
     ]
    }
   ],
   "source": [
    "from pprint import pprint\n",
    "article_list = []\n",
    "for _, row in df_full.iloc[best_matches].iterrows():\n",
    "    pprint(row.to_dict())\n",
    "    article_list.append(row.to_dict())"
   ]
  },
  {
   "cell_type": "code",
   "execution_count": 139,
   "metadata": {
    "pycharm": {
     "name": "#%%\n"
    }
   },
   "outputs": [],
   "source": [
    "with open('recommendations.json', 'w') as outfile:\n",
    "    json.dump(article_list, outfile)"
   ]
  },
  {
   "cell_type": "code",
   "execution_count": 140,
   "metadata": {},
   "outputs": [
    {
     "data": {
      "text/html": [
       "<div>\n",
       "<style scoped>\n",
       "    .dataframe tbody tr th:only-of-type {\n",
       "        vertical-align: middle;\n",
       "    }\n",
       "\n",
       "    .dataframe tbody tr th {\n",
       "        vertical-align: top;\n",
       "    }\n",
       "\n",
       "    .dataframe thead th {\n",
       "        text-align: right;\n",
       "    }\n",
       "</style>\n",
       "<table border=\"1\" class=\"dataframe\">\n",
       "  <thead>\n",
       "    <tr style=\"text-align: right;\">\n",
       "      <th></th>\n",
       "      <th>company_codes</th>\n",
       "      <th>desc</th>\n",
       "      <th>industry_codes</th>\n",
       "      <th>publication_date</th>\n",
       "      <th>region_codes</th>\n",
       "      <th>title</th>\n",
       "    </tr>\n",
       "  </thead>\n",
       "  <tbody>\n",
       "    <tr>\n",
       "      <th>292</th>\n",
       "      <td>,onlnfr,onlnfr,yoinco,</td>\n",
       "      <td>THE statistics speak for themselves -- Faceboo...</td>\n",
       "      <td>,isocial,iint,imed,</td>\n",
       "      <td>1301097600000</td>\n",
       "      <td>,austr,apacz,ausnz,</td>\n",
       "      <td>Face it, we're all obsessed</td>\n",
       "    </tr>\n",
       "    <tr>\n",
       "      <th>728</th>\n",
       "      <td>,onlnfr,onlnfr,</td>\n",
       "      <td>Facebook Inc., which filed for a public offeri...</td>\n",
       "      <td>,iint,imed,isocial,</td>\n",
       "      <td>1328572800000</td>\n",
       "      <td>,ustn,namz,usa,uss,</td>\n",
       "      <td>Facebook struggles with mobility</td>\n",
       "    </tr>\n",
       "    <tr>\n",
       "      <th>964</th>\n",
       "      <td>,onlnfr,onlnfr,</td>\n",
       "      <td>Facebook Inc., which filed for a public offeri...</td>\n",
       "      <td>,iint,imed,isocial,</td>\n",
       "      <td>1328572800000</td>\n",
       "      <td>,ustn,namz,usa,uss,</td>\n",
       "      <td>Facebook struggles with mobility</td>\n",
       "    </tr>\n",
       "    <tr>\n",
       "      <th>175</th>\n",
       "      <td>,onlnfr,onlnfr,</td>\n",
       "      <td>WITH over 500 million members, social media ne...</td>\n",
       "      <td>,iint,imed,isocial,</td>\n",
       "      <td>1293062400000</td>\n",
       "      <td>,austr,ausnz,apacz,</td>\n",
       "      <td>Facebook in your car</td>\n",
       "    </tr>\n",
       "    <tr>\n",
       "      <th>203</th>\n",
       "      <td>,onlnfr,onlnfr,</td>\n",
       "      <td>WITH over 500 million members, social media ne...</td>\n",
       "      <td>,iint,imed,isocial,</td>\n",
       "      <td>1293062400000</td>\n",
       "      <td>,austr,ausnz,apacz,</td>\n",
       "      <td>Facebook in your car</td>\n",
       "    </tr>\n",
       "  </tbody>\n",
       "</table>\n",
       "</div>"
      ],
      "text/plain": [
       "              company_codes  \\\n",
       "292  ,onlnfr,onlnfr,yoinco,   \n",
       "728         ,onlnfr,onlnfr,   \n",
       "964         ,onlnfr,onlnfr,   \n",
       "175         ,onlnfr,onlnfr,   \n",
       "203         ,onlnfr,onlnfr,   \n",
       "\n",
       "                                                  desc       industry_codes  \\\n",
       "292  THE statistics speak for themselves -- Faceboo...  ,isocial,iint,imed,   \n",
       "728  Facebook Inc., which filed for a public offeri...  ,iint,imed,isocial,   \n",
       "964  Facebook Inc., which filed for a public offeri...  ,iint,imed,isocial,   \n",
       "175  WITH over 500 million members, social media ne...  ,iint,imed,isocial,   \n",
       "203  WITH over 500 million members, social media ne...  ,iint,imed,isocial,   \n",
       "\n",
       "    publication_date         region_codes                             title  \n",
       "292    1301097600000  ,austr,apacz,ausnz,       Face it, we're all obsessed  \n",
       "728    1328572800000  ,ustn,namz,usa,uss,  Facebook struggles with mobility  \n",
       "964    1328572800000  ,ustn,namz,usa,uss,  Facebook struggles with mobility  \n",
       "175    1293062400000  ,austr,ausnz,apacz,              Facebook in your car  \n",
       "203    1293062400000  ,austr,ausnz,apacz,              Facebook in your car  "
      ]
     },
     "execution_count": 140,
     "metadata": {},
     "output_type": "execute_result"
    }
   ],
   "source": [
    "df_full.iloc[all_sorted_matches].to_csv('sorted_by_match.csv', index=False)\n",
    "df_full.iloc[all_sorted_matches].head()"
   ]
  },
  {
   "cell_type": "code",
   "execution_count": null,
   "metadata": {},
   "outputs": [],
   "source": []
  }
 ],
 "metadata": {
  "kernelspec": {
   "display_name": "Python 3",
   "language": "python",
   "name": "python3"
  },
  "language_info": {
   "codemirror_mode": {
    "name": "ipython",
    "version": 3
   },
   "file_extension": ".py",
   "mimetype": "text/x-python",
   "name": "python",
   "nbconvert_exporter": "python",
   "pygments_lexer": "ipython3",
   "version": "3.7.3"
  },
  "pycharm": {
   "stem_cell": {
    "cell_type": "raw",
    "source": [],
    "metadata": {
     "collapsed": false
    }
   }
  }
 },
 "nbformat": 4,
 "nbformat_minor": 1
}